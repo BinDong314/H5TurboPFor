{
 "cells": [
  {
   "cell_type": "code",
   "execution_count": 2,
   "id": "fa229dd8",
   "metadata": {},
   "outputs": [
    {
     "name": "stdout",
     "output_type": "stream",
     "text": [
      "(60000, 6912)\n",
      "int16\n",
      "HDF5 \"./das_example_w_earthquake_compressed.h5\" {\n",
      "GROUP \"/\" {\n",
      "   DATASET \"Acoustic\" {\n",
      "      DATATYPE  H5T_STD_I16LE\n",
      "      DATASPACE  SIMPLE { ( 60000, 6912 ) / ( 60000, 6912 ) }\n",
      "      STORAGE_LAYOUT {\n",
      "         CHUNKED ( 60000, 6912 )\n",
      "         SIZE 602942007 (1.376:1 COMPRESSION)\n",
      "      }\n",
      "      FILTERS {\n",
      "         USER_DEFINED_FILTER {\n",
      "            FILTER_ID 62016\n",
      "            COMMENT TurboPFor-Integer-Compression: https://github.com/dbinlbl/H5TurboPFor\n",
      "            PARAMS { 0 1 60000 6912 }\n",
      "         }\n",
      "      }\n",
      "      FILLVALUE {\n",
      "         FILL_TIME H5D_FILL_TIME_ALLOC\n",
      "         VALUE  H5D_FILL_VALUE_DEFAULT\n",
      "      }\n",
      "      ALLOCATION_TIME {\n",
      "         H5D_ALLOC_TIME_INCR\n",
      "      }\n",
      "   }\n",
      "}\n",
      "}\n"
     ]
    }
   ],
   "source": [
    "#Comment out below two lines to install h5py\n",
    "#import sys\n",
    "#!{sys.executable} -m pip install h5py\n",
    "\n",
    "import tables\n",
    "import os\n",
    "import h5py\n",
    "\n",
    "orignial_das_file=\"./das_example_w_earthquake.h5\"\n",
    "compressed_das_file=\"./das_example_w_earthquake_compressed.h5\"\n",
    "das_f = h5py.File(orignial_das_file, 'r')\n",
    "das_dset = das_f['Acoustic']\n",
    "\n",
    "print(das_dset.shape)\n",
    "print(das_dset.dtype)\n",
    "\n",
    "das_f_compressed = h5py.File(compressed_das_file, \"w\")\n",
    "das_dset_compressed = das_f_compressed.create_dataset(\"Acoustic\", chunks=das_dset.shape, data=das_dset, compression=62016, compression_opts=(0,1,60000,6912))\n",
    "das_dset_compressed=das_dset\n",
    "das_f_compressed.close()\n",
    "das_f.close()\n",
    "\n",
    "##inspect the result\n",
    "!h5dump -pH ./das_example_w_earthquake_compressed.h5\n"
   ]
  },
  {
   "cell_type": "code",
   "execution_count": 3,
   "id": "48b9b649",
   "metadata": {},
   "outputs": [
    {
     "name": "stdout",
     "output_type": "stream",
     "text": [
      "fatal: destination path 'TurboPFor-Integer-Compression' already exists and is not an empty directory.\n",
      "make: Nothing to be done for `all'.\n",
      "-- Configuring done\n",
      "\u001b[33mCMake Warning (dev):\n",
      "  Policy CMP0042 is not set: MACOSX_RPATH is enabled by default.  Run \"cmake\n",
      "  --help-policy CMP0042\" for policy details.  Use the cmake_policy command to\n",
      "  set the policy and suppress this warning.\n",
      "\n",
      "  MACOSX_RPATH is not specified for the following targets:\n",
      "\n",
      "   turbopfor_h5_plugin_shared\n",
      "\n",
      "This warning is for project developers.  Use -Wno-dev to suppress it.\n",
      "\u001b[0m\n",
      "-- Generating done\n",
      "-- Build files have been written to: /Users/dbin/work/H5TurboPFor\n",
      "[ 50%] \u001b[32mBuilding C object CMakeFiles/turbopfor_h5_plugin_shared.dir/turbopfor_h5plugin.c.o\u001b[0m\n",
      "[100%] \u001b[32m\u001b[1mLinking C shared library libH5Zturbopfor.dylib\u001b[0m\n",
      "[100%] Built target turbopfor_h5_plugin_shared\n",
      "\u001b[36mInstall the project...\u001b[0m\n",
      "-- Install configuration: \"\"\n",
      "-- Installing: /Users/dbin/work/H5TurboPFor/././build/libH5Zturbopfor.dylib\n"
     ]
    }
   ],
   "source": [
    "\n",
    "\n",
    "\n"
   ]
  },
  {
   "cell_type": "code",
   "execution_count": null,
   "id": "ce4bbbd8",
   "metadata": {},
   "outputs": [],
   "source": []
  }
 ],
 "metadata": {
  "kernelspec": {
   "display_name": "Python 3 (ipykernel)",
   "language": "python",
   "name": "python3"
  },
  "language_info": {
   "codemirror_mode": {
    "name": "ipython",
    "version": 3
   },
   "file_extension": ".py",
   "mimetype": "text/x-python",
   "name": "python",
   "nbconvert_exporter": "python",
   "pygments_lexer": "ipython3",
   "version": "3.10.1"
  }
 },
 "nbformat": 4,
 "nbformat_minor": 5
}
